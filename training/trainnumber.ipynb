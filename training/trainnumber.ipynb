{
 "cells": [
  {
   "cell_type": "code",
   "execution_count": 1,
   "metadata": {},
   "outputs": [],
   "source": [
    "from keras.utils import to_categorical\n",
    "from keras_preprocessing.image import load_img, ImageDataGenerator\n",
    "from keras.models import Sequential\n",
    "from keras.layers import Dense, Conv2D, Dropout, Flatten, MaxPooling2D\n",
    "from keras.callbacks import ModelCheckpoint, EarlyStopping, ReduceLROnPlateau\n",
    "from keras.layers import Input\n",
    "\n",
    "from sklearn.preprocessing import LabelEncoder\n",
    "from sklearn.model_selection import train_test_split\n",
    "\n",
    "from tqdm.notebook import tqdm\n",
    "from tqdm.keras import TqdmCallback\n",
    "\n",
    "import os\n",
    "import pandas as pd\n",
    "import numpy as np\n",
    "import matplotlib.pyplot as plt\n",
    "import cv2\n",
    "\n"
   ]
  },
  {
   "cell_type": "code",
   "execution_count": 6,
   "metadata": {},
   "outputs": [],
   "source": [
    "data_dir = \"../data/cropped\""
   ]
  },
  {
   "cell_type": "code",
   "execution_count": 7,
   "metadata": {},
   "outputs": [],
   "source": [
    "\n",
    "def create_dataframe(dir):\n",
    "    image_paths = []\n",
    "    card_type = []\n",
    "\n",
    "    for cardtype in os.listdir(dir):\n",
    "        cardtype_path = os.path.join(dir, cardtype)\n",
    "\n",
    "        if os.path.isdir(cardtype_path):\n",
    "            for filename in os.listdir(cardtype_path):\n",
    "                if filename.endswith('jpg'):\n",
    "                    image_paths.append(os.path.join(dir, cardtype, filename))\n",
    "                    # splitting by shading\n",
    "                    card_type.append(cardtype[1:2])\n",
    "    return image_paths, card_type"
   ]
  },
  {
   "cell_type": "code",
   "execution_count": 8,
   "metadata": {},
   "outputs": [],
   "source": [
    "data = pd.DataFrame()\n",
    "data['images'], data['card type'] = create_dataframe(data_dir)"
   ]
  },
  {
   "cell_type": "code",
   "execution_count": 9,
   "metadata": {},
   "outputs": [],
   "source": [
    "def reshape_images(images):\n",
    "    reshaped = []\n",
    "    for image in tqdm(images):\n",
    "        img = load_img(image)\n",
    "        img = np.array(img)\n",
    "        reshaped.append(img)\n",
    "    reshaped = np.array(reshaped)\n",
    "    reshaped = reshaped.reshape(len(reshaped), 200, 150, 3)\n",
    "\n",
    "    return reshaped"
   ]
  },
  {
   "cell_type": "code",
   "execution_count": 10,
   "metadata": {},
   "outputs": [
    {
     "data": {
      "application/vnd.jupyter.widget-view+json": {
       "model_id": "70745c531615452c8126ea93d9917b82",
       "version_major": 2,
       "version_minor": 0
      },
      "text/plain": [
       "  0%|          | 0/2307 [00:00<?, ?it/s]"
      ]
     },
     "metadata": {},
     "output_type": "display_data"
    }
   ],
   "source": [
    "data_reshaped = reshape_images(data['images'])\n",
    "\n",
    "x = data_reshaped / 255.0"
   ]
  },
  {
   "cell_type": "code",
   "execution_count": 11,
   "metadata": {},
   "outputs": [],
   "source": [
    "le = LabelEncoder()\n",
    "\n",
    "le.fit(data['card type'])\n",
    "\n",
    "\n",
    "y = le.transform(data['card type'])\n",
    "y = to_categorical(y, num_classes=3)"
   ]
  },
  {
   "cell_type": "code",
   "execution_count": 12,
   "metadata": {},
   "outputs": [
    {
     "name": "stdout",
     "output_type": "stream",
     "text": [
      "Shape of x: (2307, 200, 150, 3)\n",
      "Shape of y: (2307, 3)\n"
     ]
    }
   ],
   "source": [
    "print(\"Shape of x:\", x.shape)\n",
    "print(\"Shape of y:\", y.shape)"
   ]
  },
  {
   "cell_type": "code",
   "execution_count": 18,
   "metadata": {},
   "outputs": [],
   "source": [
    "model = Sequential()\n",
    "\n",
    "model.add(Input(shape=(200, 150, 3)))\n",
    "model.add(Conv2D(32, kernel_size = (5, 5), activation = 'relu'))\n",
    "model.add(MaxPooling2D(pool_size = (2, 2)))\n",
    "model.add(Dropout(0.4))\n",
    "\n",
    "model.add(Conv2D(64, kernel_size = (5, 5), activation = 'relu'))\n",
    "model.add(MaxPooling2D(pool_size = (2, 2)))\n",
    "model.add(Dropout(0.4))\n",
    "\n",
    "model.add(Conv2D(128, kernel_size = (5, 5), activation = 'relu'))\n",
    "model.add(MaxPooling2D(pool_size = (2, 2)))\n",
    "model.add(Dropout(0.4))\n",
    "\n",
    "model.add(Conv2D(256, kernel_size = (5, 5), activation = 'relu'))\n",
    "model.add(MaxPooling2D(pool_size = (2, 2)))\n",
    "model.add(Dropout(0.4))"
   ]
  },
  {
   "cell_type": "code",
   "execution_count": 19,
   "metadata": {},
   "outputs": [],
   "source": [
    "model.add(Flatten())\n",
    "\n",
    "model.add(Dense(256, activation = 'relu'))\n",
    "model.add(Dropout(0.4))\n",
    "\n",
    "model.add(Dense(3, activation= \"softmax\"))\n",
    "\n",
    "model.compile(optimizer = 'adam', loss = 'categorical_crossentropy', metrics = ['accuracy'])"
   ]
  },
  {
   "cell_type": "code",
   "execution_count": 20,
   "metadata": {},
   "outputs": [],
   "source": [
    "checkpoint = ModelCheckpoint(\"../models/number_downsized.keras\", monitor = \"val_accuracy\", verbose = 1, save_best_only = True, mode = 'max')\n",
    "\n",
    "early_stopping = EarlyStopping(monitor = \"val_loss\", min_delta = 0.001, patience = 5, verbose = 1, restore_best_weights = True)\n",
    "\n",
    "reduced_learning_rate = ReduceLROnPlateau(monitor = \"val_loss\", factor = 0.1, patience = 3, verbose = 1, min_delta = 0.0001)\n",
    "\n",
    "\n",
    "callbacks_list = [checkpoint, early_stopping, reduced_learning_rate]"
   ]
  },
  {
   "cell_type": "code",
   "execution_count": 21,
   "metadata": {},
   "outputs": [],
   "source": [
    "x_train, x_test, y_train, y_test = train_test_split(x, y, test_size = 0.2, random_state = 42)"
   ]
  },
  {
   "cell_type": "code",
   "execution_count": 22,
   "metadata": {},
   "outputs": [
    {
     "name": "stdout",
     "output_type": "stream",
     "text": [
      "Epoch 1/50\n",
      "58/58 [==============================] - ETA: 0s - loss: 1.2477 - accuracy: 0.3350\n",
      "Epoch 1: val_accuracy improved from -inf to 0.40260, saving model to ../models/number_downsized.keras\n",
      "58/58 [==============================] - 22s 376ms/step - loss: 1.2477 - accuracy: 0.3350 - val_loss: 1.0984 - val_accuracy: 0.4026 - lr: 0.0010\n",
      "Epoch 2/50\n",
      "58/58 [==============================] - ETA: 0s - loss: 1.0992 - accuracy: 0.3144\n",
      "Epoch 2: val_accuracy did not improve from 0.40260\n",
      "58/58 [==============================] - 22s 370ms/step - loss: 1.0992 - accuracy: 0.3144 - val_loss: 1.0992 - val_accuracy: 0.3139 - lr: 0.0010\n",
      "Epoch 3/50\n",
      "58/58 [==============================] - ETA: 0s - loss: 1.0985 - accuracy: 0.3393\n",
      "Epoch 3: val_accuracy did not improve from 0.40260\n",
      "58/58 [==============================] - 21s 370ms/step - loss: 1.0985 - accuracy: 0.3393 - val_loss: 1.0993 - val_accuracy: 0.3139 - lr: 0.0010\n",
      "Epoch 4/50\n",
      "58/58 [==============================] - ETA: 0s - loss: 1.0992 - accuracy: 0.3463\n",
      "Epoch 4: val_accuracy did not improve from 0.40260\n",
      "\n",
      "Epoch 4: ReduceLROnPlateau reducing learning rate to 0.00010000000474974513.\n",
      "58/58 [==============================] - 22s 372ms/step - loss: 1.0992 - accuracy: 0.3463 - val_loss: 1.0994 - val_accuracy: 0.3139 - lr: 0.0010\n",
      "Epoch 5/50\n",
      "58/58 [==============================] - ETA: 0s - loss: 1.0984 - accuracy: 0.3290\n",
      "Epoch 5: val_accuracy did not improve from 0.40260\n",
      "58/58 [==============================] - 22s 372ms/step - loss: 1.0984 - accuracy: 0.3290 - val_loss: 1.0994 - val_accuracy: 0.3139 - lr: 1.0000e-04\n",
      "Epoch 6/50\n",
      "58/58 [==============================] - ETA: 0s - loss: 1.0983 - accuracy: 0.3409\n",
      "Epoch 6: val_accuracy did not improve from 0.40260\n",
      "Restoring model weights from the end of the best epoch: 1.\n",
      "58/58 [==============================] - 22s 372ms/step - loss: 1.0983 - accuracy: 0.3409 - val_loss: 1.0995 - val_accuracy: 0.3139 - lr: 1.0000e-04\n",
      "Epoch 6: early stopping\n"
     ]
    }
   ],
   "source": [
    "history = model.fit(x = x_train, y = y_train, batch_size = 32, epochs = 50, validation_data = (x_test, y_test), callbacks = callbacks_list)"
   ]
  },
  {
   "cell_type": "code",
   "execution_count": 14,
   "metadata": {},
   "outputs": [],
   "source": [
    "from keras.models import load_model"
   ]
  },
  {
   "cell_type": "code",
   "execution_count": 15,
   "metadata": {},
   "outputs": [],
   "source": [
    "model = load_model('../models/number_downsized.keras')"
   ]
  },
  {
   "cell_type": "code",
   "execution_count": 16,
   "metadata": {},
   "outputs": [],
   "source": [
    "def prep(image):\n",
    "    img = load_img(image)\n",
    "    feature = np.array(img)\n",
    "    feature = feature.reshape(1, 200, 150, 3)\n",
    "    return feature / 255.0"
   ]
  },
  {
   "cell_type": "code",
   "execution_count": 17,
   "metadata": {},
   "outputs": [],
   "source": [
    "def predict_number(imagepath):\n",
    "    image = prep(imagepath)\n",
    "    pred = model.predict(image).argmax()\n",
    "\n",
    "    if pred == 0:\n",
    "        return \"One\", 0\n",
    "    if pred == 1: \n",
    "        return \"Two\", 1\n",
    "    else:\n",
    "        return \"Three\", 2\n"
   ]
  },
  {
   "cell_type": "code",
   "execution_count": 22,
   "metadata": {},
   "outputs": [
    {
     "name": "stdout",
     "output_type": "stream",
     "text": [
      "1/1 [==============================] - 0s 17ms/step\n",
      "prediction:  One\n"
     ]
    }
   ],
   "source": [
    "imagepath = '../cropped/1111/10.jpg'\n",
    "\n",
    "pred = predict_number(imagepath)\n",
    "print(\"prediction: \", pred[0])\n",
    "\n",
    "loaded_image = cv2.imread(imagepath)\n",
    "cv2.imshow('image ', loaded_image)\n",
    "cv2.waitKey(0)\n",
    "cv2.destroyAllWindows()"
   ]
  },
  {
   "cell_type": "code",
   "execution_count": null,
   "metadata": {},
   "outputs": [],
   "source": []
  }
 ],
 "metadata": {
  "kernelspec": {
   "display_name": "set",
   "language": "python",
   "name": "python3"
  },
  "language_info": {
   "codemirror_mode": {
    "name": "ipython",
    "version": 3
   },
   "file_extension": ".py",
   "mimetype": "text/x-python",
   "name": "python",
   "nbconvert_exporter": "python",
   "pygments_lexer": "ipython3",
   "version": "3.10.13"
  }
 },
 "nbformat": 4,
 "nbformat_minor": 2
}
