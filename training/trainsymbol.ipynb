{
 "cells": [
  {
   "cell_type": "code",
   "execution_count": 1,
   "metadata": {},
   "outputs": [],
   "source": [
    "from keras.utils import to_categorical\n",
    "from keras_preprocessing.image import load_img, ImageDataGenerator\n",
    "from keras.models import Sequential\n",
    "from keras.layers import Dense, Conv2D, Dropout, Flatten, MaxPooling2D\n",
    "from keras.callbacks import ModelCheckpoint, EarlyStopping, ReduceLROnPlateau\n",
    "from keras.layers import Input\n",
    "\n",
    "from sklearn.preprocessing import LabelEncoder\n",
    "from sklearn.model_selection import train_test_split\n",
    "\n",
    "from tqdm.notebook import tqdm\n",
    "from tqdm.keras import TqdmCallback\n",
    "\n",
    "import os\n",
    "import pandas as pd\n",
    "import numpy as np\n",
    "import matplotlib.pyplot as plt\n",
    "import cv2\n",
    "\n"
   ]
  },
  {
   "cell_type": "code",
   "execution_count": 2,
   "metadata": {},
   "outputs": [],
   "source": [
    "data_dir = \"../cropped\""
   ]
  },
  {
   "cell_type": "code",
   "execution_count": 3,
   "metadata": {},
   "outputs": [],
   "source": [
    "\n",
    "def create_dataframe(dir):\n",
    "    image_paths = []\n",
    "    card_type = []\n",
    "\n",
    "    for cardtype in os.listdir(dir):\n",
    "        cardtype_path = os.path.join(dir, cardtype)\n",
    "\n",
    "        if os.path.isdir(cardtype_path):\n",
    "            for filename in os.listdir(cardtype_path):\n",
    "                if filename.endswith('jpg'):\n",
    "                    image_paths.append(os.path.join(dir, cardtype, filename))\n",
    "                    # splitting by shading\n",
    "                    card_type.append(cardtype[2:3])\n",
    "    return image_paths, card_type"
   ]
  },
  {
   "cell_type": "code",
   "execution_count": 4,
   "metadata": {},
   "outputs": [],
   "source": [
    "data = pd.DataFrame()\n",
    "data['images'], data['card type'] = create_dataframe(data_dir)"
   ]
  },
  {
   "cell_type": "code",
   "execution_count": null,
   "metadata": {},
   "outputs": [],
   "source": [
    "print(data['images'][0], data['card type'][0])"
   ]
  },
  {
   "cell_type": "code",
   "execution_count": 5,
   "metadata": {},
   "outputs": [],
   "source": [
    "def reshape_images(images):\n",
    "    reshaped = []\n",
    "    for image in tqdm(images):\n",
    "        img = load_img(image)\n",
    "        img = np.array(img)\n",
    "        reshaped.append(img)\n",
    "    reshaped = np.array(reshaped)\n",
    "    reshaped = reshaped.reshape(len(reshaped), 200, 150, 3)\n",
    "\n",
    "    return reshaped"
   ]
  },
  {
   "cell_type": "code",
   "execution_count": 6,
   "metadata": {},
   "outputs": [
    {
     "data": {
      "application/vnd.jupyter.widget-view+json": {
       "model_id": "aa08613c6a9b474b9ff577c459a65401",
       "version_major": 2,
       "version_minor": 0
      },
      "text/plain": [
       "  0%|          | 0/2307 [00:00<?, ?it/s]"
      ]
     },
     "metadata": {},
     "output_type": "display_data"
    }
   ],
   "source": [
    "data_reshaped = reshape_images(data['images'])\n",
    "\n",
    "x = data_reshaped / 255.0"
   ]
  },
  {
   "cell_type": "code",
   "execution_count": 7,
   "metadata": {},
   "outputs": [],
   "source": [
    "le = LabelEncoder()\n",
    "\n",
    "le.fit(data['card type'])\n",
    "\n",
    "\n",
    "y = le.transform(data['card type'])\n",
    "y = to_categorical(y, num_classes=3)"
   ]
  },
  {
   "cell_type": "code",
   "execution_count": 8,
   "metadata": {},
   "outputs": [
    {
     "name": "stdout",
     "output_type": "stream",
     "text": [
      "Shape of x: (2307, 200, 150, 3)\n",
      "Shape of y: (2307, 3)\n"
     ]
    }
   ],
   "source": [
    "print(\"Shape of x:\", x.shape)\n",
    "print(\"Shape of y:\", y.shape)"
   ]
  },
  {
   "cell_type": "code",
   "execution_count": 9,
   "metadata": {},
   "outputs": [],
   "source": [
    "model = Sequential()\n",
    "\n",
    "model.add(Input(shape=(200, 150, 3)))\n",
    "model.add(Conv2D(32, kernel_size = (5, 5), activation = 'relu'))\n",
    "model.add(MaxPooling2D(pool_size = (2, 2)))\n",
    "model.add(Dropout(0.4))\n",
    "\n",
    "model.add(Conv2D(64, kernel_size = (5, 5), activation = 'relu'))\n",
    "model.add(MaxPooling2D(pool_size = (2, 2)))\n",
    "model.add(Dropout(0.4))\n",
    "\n",
    "model.add(Conv2D(128, kernel_size = (5, 5), activation = 'relu'))\n",
    "model.add(MaxPooling2D(pool_size = (2, 2)))\n",
    "model.add(Dropout(0.4))\n",
    "\n",
    "model.add(Conv2D(256, kernel_size = (5, 5), activation = 'relu'))\n",
    "model.add(MaxPooling2D(pool_size = (2, 2)))\n",
    "model.add(Dropout(0.4))"
   ]
  },
  {
   "cell_type": "code",
   "execution_count": 10,
   "metadata": {},
   "outputs": [],
   "source": [
    "model.add(Flatten())\n",
    "\n",
    "model.add(Dense(256, activation = 'relu'))\n",
    "model.add(Dropout(0.4))\n",
    "\n",
    "model.add(Dense(3, activation= \"softmax\"))\n",
    "\n",
    "model.compile(optimizer = 'adam', loss = 'categorical_crossentropy', metrics = ['accuracy'])"
   ]
  },
  {
   "cell_type": "code",
   "execution_count": 11,
   "metadata": {},
   "outputs": [],
   "source": [
    "checkpoint = ModelCheckpoint(\"../models/symbol\", monitor = \"val_accuracy\", verbose = 1, save_best_only = True, mode = 'max')\n",
    "\n",
    "early_stopping = EarlyStopping(monitor = \"val_loss\", min_delta = 0.001, patience = 5, verbose = 1, restore_best_weights = True)\n",
    "\n",
    "reduced_learning_rate = ReduceLROnPlateau(monitor = \"val_loss\", factor = 0.1, patience = 3, verbose = 1, min_delta = 0.0001)\n",
    "\n",
    "\n",
    "callbacks_list = [checkpoint, early_stopping, reduced_learning_rate]"
   ]
  },
  {
   "cell_type": "code",
   "execution_count": 12,
   "metadata": {},
   "outputs": [],
   "source": [
    "x_train, x_test, y_train, y_test = train_test_split(x, y, test_size = 0.2, random_state = 42)"
   ]
  },
  {
   "cell_type": "code",
   "execution_count": 14,
   "metadata": {},
   "outputs": [
    {
     "name": "stdout",
     "output_type": "stream",
     "text": [
      "Epoch 1/50\n",
      "58/58 [==============================] - ETA: 0s - loss: 1.0981 - accuracy: 0.3507\n",
      "Epoch 1: val_accuracy did not improve from 0.33983\n",
      "58/58 [==============================] - 28s 484ms/step - loss: 1.0981 - accuracy: 0.3507 - val_loss: 1.0985 - val_accuracy: 0.3398 - lr: 1.0000e-04\n",
      "Epoch 2/50\n",
      "58/58 [==============================] - ETA: 0s - loss: 1.0974 - accuracy: 0.3507\n",
      "Epoch 2: val_accuracy did not improve from 0.33983\n",
      "58/58 [==============================] - 27s 466ms/step - loss: 1.0974 - accuracy: 0.3507 - val_loss: 1.0984 - val_accuracy: 0.3398 - lr: 1.0000e-04\n",
      "Epoch 3/50\n",
      "58/58 [==============================] - ETA: 0s - loss: 1.0977 - accuracy: 0.3507\n",
      "Epoch 3: val_accuracy did not improve from 0.33983\n",
      "58/58 [==============================] - 26s 457ms/step - loss: 1.0977 - accuracy: 0.3507 - val_loss: 1.0983 - val_accuracy: 0.3398 - lr: 1.0000e-04\n",
      "Epoch 4/50\n",
      "58/58 [==============================] - ETA: 0s - loss: 1.0972 - accuracy: 0.3507\n",
      "Epoch 4: val_accuracy did not improve from 0.33983\n",
      "58/58 [==============================] - 27s 458ms/step - loss: 1.0972 - accuracy: 0.3507 - val_loss: 1.0980 - val_accuracy: 0.3398 - lr: 1.0000e-04\n",
      "Epoch 5/50\n",
      "58/58 [==============================] - ETA: 0s - loss: 1.0976 - accuracy: 0.3523\n",
      "Epoch 5: val_accuracy did not improve from 0.33983\n",
      "58/58 [==============================] - 27s 459ms/step - loss: 1.0976 - accuracy: 0.3523 - val_loss: 1.0980 - val_accuracy: 0.3398 - lr: 1.0000e-04\n",
      "Epoch 6/50\n",
      "58/58 [==============================] - ETA: 0s - loss: 1.0961 - accuracy: 0.3501\n",
      "Epoch 6: val_accuracy did not improve from 0.33983\n",
      "58/58 [==============================] - 28s 477ms/step - loss: 1.0961 - accuracy: 0.3501 - val_loss: 1.0970 - val_accuracy: 0.3398 - lr: 1.0000e-04\n",
      "Epoch 7/50\n",
      "58/58 [==============================] - ETA: 0s - loss: 1.0951 - accuracy: 0.3583\n",
      "Epoch 7: val_accuracy did not improve from 0.33983\n",
      "58/58 [==============================] - 28s 480ms/step - loss: 1.0951 - accuracy: 0.3583 - val_loss: 1.0957 - val_accuracy: 0.3398 - lr: 1.0000e-04\n",
      "Epoch 8/50\n",
      "58/58 [==============================] - ETA: 0s - loss: 1.0881 - accuracy: 0.3837\n",
      "Epoch 8: val_accuracy improved from 0.33983 to 0.48918, saving model to ../models/symbol\n"
     ]
    },
    {
     "name": "stderr",
     "output_type": "stream",
     "text": [
      "WARNING:absl:Found untraced functions such as _jit_compiled_convolution_op, _jit_compiled_convolution_op, _jit_compiled_convolution_op, _jit_compiled_convolution_op, _update_step_xla while saving (showing 5 of 5). These functions will not be directly callable after loading.\n"
     ]
    },
    {
     "name": "stdout",
     "output_type": "stream",
     "text": [
      "INFO:tensorflow:Assets written to: ../models/symbol/assets\n"
     ]
    },
    {
     "name": "stderr",
     "output_type": "stream",
     "text": [
      "INFO:tensorflow:Assets written to: ../models/symbol/assets\n"
     ]
    },
    {
     "name": "stdout",
     "output_type": "stream",
     "text": [
      "58/58 [==============================] - 28s 486ms/step - loss: 1.0881 - accuracy: 0.3837 - val_loss: 1.0857 - val_accuracy: 0.4892 - lr: 1.0000e-04\n",
      "Epoch 9/50\n",
      "58/58 [==============================] - ETA: 0s - loss: 1.0473 - accuracy: 0.4466\n",
      "Epoch 9: val_accuracy improved from 0.48918 to 0.61039, saving model to ../models/symbol\n"
     ]
    },
    {
     "name": "stderr",
     "output_type": "stream",
     "text": [
      "WARNING:absl:Found untraced functions such as _jit_compiled_convolution_op, _jit_compiled_convolution_op, _jit_compiled_convolution_op, _jit_compiled_convolution_op, _update_step_xla while saving (showing 5 of 5). These functions will not be directly callable after loading.\n"
     ]
    },
    {
     "name": "stdout",
     "output_type": "stream",
     "text": [
      "INFO:tensorflow:Assets written to: ../models/symbol/assets\n"
     ]
    },
    {
     "name": "stderr",
     "output_type": "stream",
     "text": [
      "INFO:tensorflow:Assets written to: ../models/symbol/assets\n"
     ]
    },
    {
     "name": "stdout",
     "output_type": "stream",
     "text": [
      "58/58 [==============================] - 27s 469ms/step - loss: 1.0473 - accuracy: 0.4466 - val_loss: 0.9515 - val_accuracy: 0.6104 - lr: 1.0000e-04\n",
      "Epoch 10/50\n",
      "58/58 [==============================] - ETA: 0s - loss: 0.7988 - accuracy: 0.6596\n",
      "Epoch 10: val_accuracy improved from 0.61039 to 0.79870, saving model to ../models/symbol\n"
     ]
    },
    {
     "name": "stderr",
     "output_type": "stream",
     "text": [
      "WARNING:absl:Found untraced functions such as _jit_compiled_convolution_op, _jit_compiled_convolution_op, _jit_compiled_convolution_op, _jit_compiled_convolution_op, _update_step_xla while saving (showing 5 of 5). These functions will not be directly callable after loading.\n"
     ]
    },
    {
     "name": "stdout",
     "output_type": "stream",
     "text": [
      "INFO:tensorflow:Assets written to: ../models/symbol/assets\n"
     ]
    },
    {
     "name": "stderr",
     "output_type": "stream",
     "text": [
      "INFO:tensorflow:Assets written to: ../models/symbol/assets\n"
     ]
    },
    {
     "name": "stdout",
     "output_type": "stream",
     "text": [
      "58/58 [==============================] - 27s 470ms/step - loss: 0.7988 - accuracy: 0.6596 - val_loss: 0.6025 - val_accuracy: 0.7987 - lr: 1.0000e-04\n",
      "Epoch 11/50\n",
      "58/58 [==============================] - ETA: 0s - loss: 0.4672 - accuracy: 0.8314\n",
      "Epoch 11: val_accuracy improved from 0.79870 to 0.93074, saving model to ../models/symbol\n"
     ]
    },
    {
     "name": "stderr",
     "output_type": "stream",
     "text": [
      "WARNING:absl:Found untraced functions such as _jit_compiled_convolution_op, _jit_compiled_convolution_op, _jit_compiled_convolution_op, _jit_compiled_convolution_op, _update_step_xla while saving (showing 5 of 5). These functions will not be directly callable after loading.\n"
     ]
    },
    {
     "name": "stdout",
     "output_type": "stream",
     "text": [
      "INFO:tensorflow:Assets written to: ../models/symbol/assets\n"
     ]
    },
    {
     "name": "stderr",
     "output_type": "stream",
     "text": [
      "INFO:tensorflow:Assets written to: ../models/symbol/assets\n"
     ]
    },
    {
     "name": "stdout",
     "output_type": "stream",
     "text": [
      "58/58 [==============================] - 27s 472ms/step - loss: 0.4672 - accuracy: 0.8314 - val_loss: 0.2959 - val_accuracy: 0.9307 - lr: 1.0000e-04\n",
      "Epoch 12/50\n",
      "58/58 [==============================] - ETA: 0s - loss: 0.2963 - accuracy: 0.9014\n",
      "Epoch 12: val_accuracy improved from 0.93074 to 0.95022, saving model to ../models/symbol\n"
     ]
    },
    {
     "name": "stderr",
     "output_type": "stream",
     "text": [
      "WARNING:absl:Found untraced functions such as _jit_compiled_convolution_op, _jit_compiled_convolution_op, _jit_compiled_convolution_op, _jit_compiled_convolution_op, _update_step_xla while saving (showing 5 of 5). These functions will not be directly callable after loading.\n"
     ]
    },
    {
     "name": "stdout",
     "output_type": "stream",
     "text": [
      "INFO:tensorflow:Assets written to: ../models/symbol/assets\n"
     ]
    },
    {
     "name": "stderr",
     "output_type": "stream",
     "text": [
      "INFO:tensorflow:Assets written to: ../models/symbol/assets\n"
     ]
    },
    {
     "name": "stdout",
     "output_type": "stream",
     "text": [
      "58/58 [==============================] - 28s 477ms/step - loss: 0.2963 - accuracy: 0.9014 - val_loss: 0.2095 - val_accuracy: 0.9502 - lr: 1.0000e-04\n",
      "Epoch 13/50\n",
      "58/58 [==============================] - ETA: 0s - loss: 0.1940 - accuracy: 0.9339\n",
      "Epoch 13: val_accuracy did not improve from 0.95022\n",
      "58/58 [==============================] - 27s 460ms/step - loss: 0.1940 - accuracy: 0.9339 - val_loss: 0.2113 - val_accuracy: 0.9113 - lr: 1.0000e-04\n",
      "Epoch 14/50\n",
      "58/58 [==============================] - ETA: 0s - loss: 0.1608 - accuracy: 0.9469\n",
      "Epoch 14: val_accuracy improved from 0.95022 to 0.97186, saving model to ../models/symbol\n"
     ]
    },
    {
     "name": "stderr",
     "output_type": "stream",
     "text": [
      "WARNING:absl:Found untraced functions such as _jit_compiled_convolution_op, _jit_compiled_convolution_op, _jit_compiled_convolution_op, _jit_compiled_convolution_op, _update_step_xla while saving (showing 5 of 5). These functions will not be directly callable after loading.\n"
     ]
    },
    {
     "name": "stdout",
     "output_type": "stream",
     "text": [
      "INFO:tensorflow:Assets written to: ../models/symbol/assets\n"
     ]
    },
    {
     "name": "stderr",
     "output_type": "stream",
     "text": [
      "INFO:tensorflow:Assets written to: ../models/symbol/assets\n"
     ]
    },
    {
     "name": "stdout",
     "output_type": "stream",
     "text": [
      "58/58 [==============================] - 27s 472ms/step - loss: 0.1608 - accuracy: 0.9469 - val_loss: 0.1119 - val_accuracy: 0.9719 - lr: 1.0000e-04\n",
      "Epoch 15/50\n",
      "58/58 [==============================] - ETA: 0s - loss: 0.1326 - accuracy: 0.9561\n",
      "Epoch 15: val_accuracy improved from 0.97186 to 0.98268, saving model to ../models/symbol\n"
     ]
    },
    {
     "name": "stderr",
     "output_type": "stream",
     "text": [
      "WARNING:absl:Found untraced functions such as _jit_compiled_convolution_op, _jit_compiled_convolution_op, _jit_compiled_convolution_op, _jit_compiled_convolution_op, _update_step_xla while saving (showing 5 of 5). These functions will not be directly callable after loading.\n"
     ]
    },
    {
     "name": "stdout",
     "output_type": "stream",
     "text": [
      "INFO:tensorflow:Assets written to: ../models/symbol/assets\n"
     ]
    },
    {
     "name": "stderr",
     "output_type": "stream",
     "text": [
      "INFO:tensorflow:Assets written to: ../models/symbol/assets\n"
     ]
    },
    {
     "name": "stdout",
     "output_type": "stream",
     "text": [
      "58/58 [==============================] - 28s 476ms/step - loss: 0.1326 - accuracy: 0.9561 - val_loss: 0.0926 - val_accuracy: 0.9827 - lr: 1.0000e-04\n",
      "Epoch 16/50\n",
      "58/58 [==============================] - ETA: 0s - loss: 0.0900 - accuracy: 0.9702\n",
      "Epoch 16: val_accuracy improved from 0.98268 to 0.98485, saving model to ../models/symbol\n"
     ]
    },
    {
     "name": "stderr",
     "output_type": "stream",
     "text": [
      "WARNING:absl:Found untraced functions such as _jit_compiled_convolution_op, _jit_compiled_convolution_op, _jit_compiled_convolution_op, _jit_compiled_convolution_op, _update_step_xla while saving (showing 5 of 5). These functions will not be directly callable after loading.\n"
     ]
    },
    {
     "name": "stdout",
     "output_type": "stream",
     "text": [
      "INFO:tensorflow:Assets written to: ../models/symbol/assets\n"
     ]
    },
    {
     "name": "stderr",
     "output_type": "stream",
     "text": [
      "INFO:tensorflow:Assets written to: ../models/symbol/assets\n"
     ]
    },
    {
     "name": "stdout",
     "output_type": "stream",
     "text": [
      "58/58 [==============================] - 27s 464ms/step - loss: 0.0900 - accuracy: 0.9702 - val_loss: 0.0701 - val_accuracy: 0.9848 - lr: 1.0000e-04\n",
      "Epoch 17/50\n",
      "58/58 [==============================] - ETA: 0s - loss: 0.0813 - accuracy: 0.9762\n",
      "Epoch 17: val_accuracy improved from 0.98485 to 0.98701, saving model to ../models/symbol\n"
     ]
    },
    {
     "name": "stderr",
     "output_type": "stream",
     "text": [
      "WARNING:absl:Found untraced functions such as _jit_compiled_convolution_op, _jit_compiled_convolution_op, _jit_compiled_convolution_op, _jit_compiled_convolution_op, _update_step_xla while saving (showing 5 of 5). These functions will not be directly callable after loading.\n"
     ]
    },
    {
     "name": "stdout",
     "output_type": "stream",
     "text": [
      "INFO:tensorflow:Assets written to: ../models/symbol/assets\n"
     ]
    },
    {
     "name": "stderr",
     "output_type": "stream",
     "text": [
      "INFO:tensorflow:Assets written to: ../models/symbol/assets\n"
     ]
    },
    {
     "name": "stdout",
     "output_type": "stream",
     "text": [
      "58/58 [==============================] - 26s 456ms/step - loss: 0.0813 - accuracy: 0.9762 - val_loss: 0.0654 - val_accuracy: 0.9870 - lr: 1.0000e-04\n",
      "Epoch 18/50\n",
      "58/58 [==============================] - ETA: 0s - loss: 0.0656 - accuracy: 0.9783\n",
      "Epoch 18: val_accuracy did not improve from 0.98701\n",
      "58/58 [==============================] - 26s 441ms/step - loss: 0.0656 - accuracy: 0.9783 - val_loss: 0.0532 - val_accuracy: 0.9848 - lr: 1.0000e-04\n",
      "Epoch 19/50\n",
      "58/58 [==============================] - ETA: 0s - loss: 0.0632 - accuracy: 0.9837\n",
      "Epoch 19: val_accuracy improved from 0.98701 to 0.98918, saving model to ../models/symbol\n"
     ]
    },
    {
     "name": "stderr",
     "output_type": "stream",
     "text": [
      "WARNING:absl:Found untraced functions such as _jit_compiled_convolution_op, _jit_compiled_convolution_op, _jit_compiled_convolution_op, _jit_compiled_convolution_op, _update_step_xla while saving (showing 5 of 5). These functions will not be directly callable after loading.\n"
     ]
    },
    {
     "name": "stdout",
     "output_type": "stream",
     "text": [
      "INFO:tensorflow:Assets written to: ../models/symbol/assets\n"
     ]
    },
    {
     "name": "stderr",
     "output_type": "stream",
     "text": [
      "INFO:tensorflow:Assets written to: ../models/symbol/assets\n"
     ]
    },
    {
     "name": "stdout",
     "output_type": "stream",
     "text": [
      "58/58 [==============================] - 26s 451ms/step - loss: 0.0632 - accuracy: 0.9837 - val_loss: 0.0511 - val_accuracy: 0.9892 - lr: 1.0000e-04\n",
      "Epoch 20/50\n",
      "58/58 [==============================] - ETA: 0s - loss: 0.0426 - accuracy: 0.9875\n",
      "Epoch 20: val_accuracy improved from 0.98918 to 0.99134, saving model to ../models/symbol\n"
     ]
    },
    {
     "name": "stderr",
     "output_type": "stream",
     "text": [
      "WARNING:absl:Found untraced functions such as _jit_compiled_convolution_op, _jit_compiled_convolution_op, _jit_compiled_convolution_op, _jit_compiled_convolution_op, _update_step_xla while saving (showing 5 of 5). These functions will not be directly callable after loading.\n"
     ]
    },
    {
     "name": "stdout",
     "output_type": "stream",
     "text": [
      "INFO:tensorflow:Assets written to: ../models/symbol/assets\n"
     ]
    },
    {
     "name": "stderr",
     "output_type": "stream",
     "text": [
      "INFO:tensorflow:Assets written to: ../models/symbol/assets\n"
     ]
    },
    {
     "name": "stdout",
     "output_type": "stream",
     "text": [
      "58/58 [==============================] - 26s 449ms/step - loss: 0.0426 - accuracy: 0.9875 - val_loss: 0.0498 - val_accuracy: 0.9913 - lr: 1.0000e-04\n",
      "Epoch 21/50\n",
      "58/58 [==============================] - ETA: 0s - loss: 0.0397 - accuracy: 0.9870\n",
      "Epoch 21: val_accuracy did not improve from 0.99134\n",
      "58/58 [==============================] - 26s 455ms/step - loss: 0.0397 - accuracy: 0.9870 - val_loss: 0.0426 - val_accuracy: 0.9870 - lr: 1.0000e-04\n",
      "Epoch 22/50\n",
      "58/58 [==============================] - ETA: 0s - loss: 0.0336 - accuracy: 0.9919\n",
      "Epoch 22: val_accuracy improved from 0.99134 to 0.99351, saving model to ../models/symbol\n"
     ]
    },
    {
     "name": "stderr",
     "output_type": "stream",
     "text": [
      "WARNING:absl:Found untraced functions such as _jit_compiled_convolution_op, _jit_compiled_convolution_op, _jit_compiled_convolution_op, _jit_compiled_convolution_op, _update_step_xla while saving (showing 5 of 5). These functions will not be directly callable after loading.\n"
     ]
    },
    {
     "name": "stdout",
     "output_type": "stream",
     "text": [
      "INFO:tensorflow:Assets written to: ../models/symbol/assets\n"
     ]
    },
    {
     "name": "stderr",
     "output_type": "stream",
     "text": [
      "INFO:tensorflow:Assets written to: ../models/symbol/assets\n"
     ]
    },
    {
     "name": "stdout",
     "output_type": "stream",
     "text": [
      "58/58 [==============================] - 33s 566ms/step - loss: 0.0336 - accuracy: 0.9919 - val_loss: 0.0376 - val_accuracy: 0.9935 - lr: 1.0000e-04\n",
      "Epoch 23/50\n",
      "58/58 [==============================] - ETA: 0s - loss: 0.0333 - accuracy: 0.9913\n",
      "Epoch 23: val_accuracy improved from 0.99351 to 0.99567, saving model to ../models/symbol\n"
     ]
    },
    {
     "name": "stderr",
     "output_type": "stream",
     "text": [
      "WARNING:absl:Found untraced functions such as _jit_compiled_convolution_op, _jit_compiled_convolution_op, _jit_compiled_convolution_op, _jit_compiled_convolution_op, _update_step_xla while saving (showing 5 of 5). These functions will not be directly callable after loading.\n"
     ]
    },
    {
     "name": "stdout",
     "output_type": "stream",
     "text": [
      "INFO:tensorflow:Assets written to: ../models/symbol/assets\n"
     ]
    },
    {
     "name": "stderr",
     "output_type": "stream",
     "text": [
      "INFO:tensorflow:Assets written to: ../models/symbol/assets\n"
     ]
    },
    {
     "name": "stdout",
     "output_type": "stream",
     "text": [
      "58/58 [==============================] - 27s 467ms/step - loss: 0.0333 - accuracy: 0.9913 - val_loss: 0.0347 - val_accuracy: 0.9957 - lr: 1.0000e-04\n",
      "Epoch 24/50\n",
      "58/58 [==============================] - ETA: 0s - loss: 0.0265 - accuracy: 0.9930\n",
      "Epoch 24: val_accuracy did not improve from 0.99567\n",
      "58/58 [==============================] - 25s 439ms/step - loss: 0.0265 - accuracy: 0.9930 - val_loss: 0.0283 - val_accuracy: 0.9957 - lr: 1.0000e-04\n",
      "Epoch 25/50\n",
      "58/58 [==============================] - ETA: 0s - loss: 0.0368 - accuracy: 0.9892\n",
      "Epoch 25: val_accuracy did not improve from 0.99567\n",
      "58/58 [==============================] - 25s 439ms/step - loss: 0.0368 - accuracy: 0.9892 - val_loss: 0.0344 - val_accuracy: 0.9913 - lr: 1.0000e-04\n",
      "Epoch 26/50\n",
      "58/58 [==============================] - ETA: 0s - loss: 0.0323 - accuracy: 0.9908\n",
      "Epoch 26: val_accuracy did not improve from 0.99567\n",
      "58/58 [==============================] - 26s 443ms/step - loss: 0.0323 - accuracy: 0.9908 - val_loss: 0.0300 - val_accuracy: 0.9892 - lr: 1.0000e-04\n",
      "Epoch 27/50\n",
      "58/58 [==============================] - ETA: 0s - loss: 0.0202 - accuracy: 0.9962\n",
      "Epoch 27: val_accuracy did not improve from 0.99567\n",
      "\n",
      "Epoch 27: ReduceLROnPlateau reducing learning rate to 1.0000000474974514e-05.\n",
      "58/58 [==============================] - 26s 440ms/step - loss: 0.0202 - accuracy: 0.9962 - val_loss: 0.0302 - val_accuracy: 0.9957 - lr: 1.0000e-04\n",
      "Epoch 28/50\n",
      "58/58 [==============================] - ETA: 0s - loss: 0.0169 - accuracy: 0.9951\n",
      "Epoch 28: val_accuracy did not improve from 0.99567\n",
      "58/58 [==============================] - 25s 439ms/step - loss: 0.0169 - accuracy: 0.9951 - val_loss: 0.0284 - val_accuracy: 0.9957 - lr: 1.0000e-05\n",
      "Epoch 29/50\n",
      "58/58 [==============================] - ETA: 0s - loss: 0.0171 - accuracy: 0.9951\n",
      "Epoch 29: val_accuracy did not improve from 0.99567\n",
      "Restoring model weights from the end of the best epoch: 24.\n",
      "58/58 [==============================] - 25s 438ms/step - loss: 0.0171 - accuracy: 0.9951 - val_loss: 0.0286 - val_accuracy: 0.9957 - lr: 1.0000e-05\n",
      "Epoch 29: early stopping\n"
     ]
    }
   ],
   "source": [
    "history = model.fit(x = x_train, y = y_train, batch_size = 32, epochs = 50, validation_data = (x_test, y_test), callbacks = callbacks_list)"
   ]
  },
  {
   "cell_type": "code",
   "execution_count": 15,
   "metadata": {},
   "outputs": [
    {
     "data": {
      "text/plain": [
       "Text(0.5, 0.92, 'Lineplots showing loss and accuracy of CNN model by epochs')"
      ]
     },
     "execution_count": 15,
     "metadata": {},
     "output_type": "execute_result"
    },
    {
     "data": {
      "image/png": "[encoded data removed]",
      "text/plain": [
       "<Figure size 1500x700 with 2 Axes>"
      ]
     },
     "metadata": {},
     "output_type": "display_data"
    }
   ],
   "source": [
    "# Checking the train and test loss and accuracy values from the neural network above.\n",
    "train_loss = history.history['loss']\n",
    "test_loss = history.history['val_loss']\n",
    "train_accuracy = history.history['accuracy']\n",
    "test_accuracy = history.history['val_accuracy']\n",
    "\n",
    "# Plotting a line chart to visualize the loss and accuracy values by epochs.\n",
    "fig, ax = plt.subplots(ncols=2, figsize=(15,7))\n",
    "ax = ax.ravel()\n",
    "ax[0].plot(train_loss, label='Train Loss', color='royalblue', marker='o', markersize=5)\n",
    "ax[0].plot(test_loss, label='Test Loss', color = 'orangered', marker='o', markersize=5)\n",
    "ax[0].set_xlabel('Epochs', fontsize=14)\n",
    "ax[0].set_ylabel('Categorical Crossentropy', fontsize=14)\n",
    "ax[0].legend(fontsize=14)\n",
    "ax[0].tick_params(axis='both', labelsize=12)\n",
    "ax[1].plot(train_accuracy, label='Train Accuracy', color='royalblue', marker='o', markersize=5)\n",
    "ax[1].plot(test_accuracy, label='Test Accuracy', color='orangered', marker='o', markersize=5)\n",
    "ax[1].set_xlabel('Epochs', fontsize=14)\n",
    "ax[1].set_ylabel('Accuracy', fontsize=14)\n",
    "ax[1].legend(fontsize=14)\n",
    "ax[1].tick_params(axis='both', labelsize=12)\n",
    "fig.suptitle(x=0.5, y=0.92, t=\"Lineplots showing loss and accuracy of CNN model by epochs\", fontsize=16)"
   ]
  },
  {
   "cell_type": "code",
   "execution_count": 16,
   "metadata": {},
   "outputs": [],
   "source": [
    "from keras.models import load_model"
   ]
  },
  {
   "cell_type": "code",
   "execution_count": 25,
   "metadata": {},
   "outputs": [],
   "source": [
    "model = load_model('../models/symbol.keras')"
   ]
  },
  {
   "cell_type": "code",
   "execution_count": 26,
   "metadata": {},
   "outputs": [],
   "source": [
    "def prep(image):\n",
    "    img = load_img(image)\n",
    "    feature = np.array(img)\n",
    "    feature = feature.reshape(1, 200, 150, 3)\n",
    "    return feature / 255.0"
   ]
  },
  {
   "cell_type": "code",
   "execution_count": 27,
   "metadata": {},
   "outputs": [],
   "source": [
    "def predict_symbol(imagepath):\n",
    "    image = prep(imagepath)\n",
    "    pred = model.predict(image).argmax()\n",
    "\n",
    "    if pred == 0:\n",
    "        return \"Diamond\", 0\n",
    "    if pred == 1: \n",
    "        return \"Oval\", 1\n",
    "    else:\n",
    "        return \"Squiggle\", 2\n"
   ]
  },
  {
   "cell_type": "code",
   "execution_count": 28,
   "metadata": {},
   "outputs": [
    {
     "name": "stdout",
     "output_type": "stream",
     "text": [
      "1/1 [==============================] - 0s 38ms/step\n",
      "prediction:  Squiggle\n"
     ]
    }
   ],
   "source": [
    "imagepath = '../cropped/3333/10.jpg'\n",
    "\n",
    "pred = predict_symbol(imagepath)\n",
    "print(\"prediction: \", pred[0])\n",
    "\n",
    "loaded_image = cv2.imread(imagepath)\n",
    "cv2.imshow('image ', loaded_image)\n",
    "cv2.waitKey(0)\n",
    "cv2.destroyAllWindows()"
   ]
  },
  {
   "cell_type": "code",
   "execution_count": null,
   "metadata": {},
   "outputs": [],
   "source": []
  }
 ],
 "metadata": {
  "kernelspec": {
   "display_name": "set",
   "language": "python",
   "name": "python3"
  },
  "language_info": {
   "codemirror_mode": {
    "name": "ipython",
    "version": 3
   },
   "file_extension": ".py",
   "mimetype": "text/x-python",
   "name": "python",
   "nbconvert_exporter": "python",
   "pygments_lexer": "ipython3",
   "version": "3.10.13"
  }
 },
 "nbformat": 4,
 "nbformat_minor": 2
}
