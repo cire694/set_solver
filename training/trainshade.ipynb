{
 "cells": [
  {
   "cell_type": "code",
   "execution_count": 17,
   "metadata": {},
   "outputs": [],
   "source": [
    "from keras.utils import to_categorical\n",
    "from keras_preprocessing.image import load_img, ImageDataGenerator\n",
    "from keras.models import Sequential\n",
    "from keras.layers import Dense, Conv2D, Dropout, Flatten, MaxPooling2D\n",
    "from keras.callbacks import ModelCheckpoint, EarlyStopping, ReduceLROnPlateau\n",
    "from keras.layers import Input\n",
    "\n",
    "from sklearn.preprocessing import LabelEncoder\n",
    "from sklearn.model_selection import train_test_split\n",
    "\n",
    "from tqdm.notebook import tqdm\n",
    "from tqdm.keras import TqdmCallback\n",
    "\n",
    "import os\n",
    "import pandas as pd\n",
    "import numpy as np\n",
    "import matplotlib.pyplot as plt\n",
    "import cv2\n",
    "\n"
   ]
  },
  {
   "cell_type": "code",
   "execution_count": 3,
   "metadata": {},
   "outputs": [],
   "source": [
    "data_dir = \"../cropped\""
   ]
  },
  {
   "cell_type": "code",
   "execution_count": 4,
   "metadata": {},
   "outputs": [],
   "source": [
    "\n",
    "def create_dataframe(dir):\n",
    "    image_paths = []\n",
    "    card_type = []\n",
    "\n",
    "    for cardtype in os.listdir(dir):\n",
    "        cardtype_path = os.path.join(dir, cardtype)\n",
    "\n",
    "        if os.path.isdir(cardtype_path):\n",
    "            for filename in os.listdir(cardtype_path):\n",
    "                if filename.endswith('jpg'):\n",
    "                    image_paths.append(os.path.join(dir, cardtype, filename))\n",
    "                    # splitting by shading\n",
    "                    card_type.append(cardtype[3:4])\n",
    "    return image_paths, card_type"
   ]
  },
  {
   "cell_type": "code",
   "execution_count": 5,
   "metadata": {},
   "outputs": [],
   "source": [
    "data = pd.DataFrame()\n",
    "data['images'], data['card type'] = create_dataframe(data_dir)"
   ]
  },
  {
   "cell_type": "code",
   "execution_count": 6,
   "metadata": {},
   "outputs": [],
   "source": [
    "def reshape_images(images):\n",
    "    reshaped = []\n",
    "    for image in tqdm(images):\n",
    "        img = load_img(image)\n",
    "        img = np.array(img)\n",
    "        reshaped.append(img)\n",
    "    reshaped = np.array(reshaped)\n",
    "    reshaped = reshaped.reshape(len(reshaped), 200, 150, 3)\n",
    "\n",
    "    return reshaped"
   ]
  },
  {
   "cell_type": "code",
   "execution_count": 7,
   "metadata": {},
   "outputs": [
    {
     "data": {
      "application/vnd.jupyter.widget-view+json": {
       "model_id": "953acb3c251049f48c715908c89117f7",
       "version_major": 2,
       "version_minor": 0
      },
      "text/plain": [
       "  0%|          | 0/2307 [00:00<?, ?it/s]"
      ]
     },
     "metadata": {},
     "output_type": "display_data"
    }
   ],
   "source": [
    "data_reshaped = reshape_images(data['images'])\n",
    "\n",
    "x = data_reshaped / 255.0"
   ]
  },
  {
   "cell_type": "code",
   "execution_count": 10,
   "metadata": {},
   "outputs": [],
   "source": [
    "le = LabelEncoder()\n",
    "\n",
    "le.fit(data['card type'])\n",
    "\n",
    "\n",
    "y = le.transform(data['card type'])\n",
    "y = to_categorical(y, num_classes=3)"
   ]
  },
  {
   "cell_type": "code",
   "execution_count": 15,
   "metadata": {},
   "outputs": [
    {
     "name": "stdout",
     "output_type": "stream",
     "text": [
      "Shape of x: (2307, 200, 150, 3)\n",
      "Shape of y: (2307, 3)\n"
     ]
    }
   ],
   "source": [
    "print(\"Shape of x:\", x.shape)\n",
    "print(\"Shape of y:\", y.shape)"
   ]
  },
  {
   "cell_type": "code",
   "execution_count": 23,
   "metadata": {},
   "outputs": [],
   "source": [
    "model = Sequential()\n",
    "\n",
    "model.add(Input(shape=(200, 150, 3)))\n",
    "model.add(Conv2D(32, kernel_size = (5, 5), activation = 'relu'))\n",
    "model.add(MaxPooling2D(pool_size = (2, 2)))\n",
    "model.add(Dropout(0.4))\n",
    "\n",
    "model.add(Conv2D(64, kernel_size = (5, 5), activation = 'relu'))\n",
    "model.add(MaxPooling2D(pool_size = (2, 2)))\n",
    "model.add(Dropout(0.4))\n",
    "\n",
    "model.add(Conv2D(128, kernel_size = (5, 5), activation = 'relu'))\n",
    "model.add(MaxPooling2D(pool_size = (2, 2)))\n",
    "model.add(Dropout(0.4))\n",
    "\n",
    "model.add(Conv2D(256, kernel_size = (5, 5), activation = 'relu'))\n",
    "model.add(MaxPooling2D(pool_size = (2, 2)))\n",
    "model.add(Dropout(0.4))"
   ]
  },
  {
   "cell_type": "code",
   "execution_count": 24,
   "metadata": {},
   "outputs": [],
   "source": [
    "model.add(Flatten())\n",
    "\n",
    "model.add(Dense(256, activation = 'relu'))\n",
    "model.add(Dropout(0.4))\n",
    "\n",
    "model.add(Dense(3, activation= \"softmax\"))\n",
    "\n",
    "model.compile(optimizer = 'adam', loss = 'categorical_crossentropy', metrics = ['accuracy'])"
   ]
  },
  {
   "cell_type": "code",
   "execution_count": 25,
   "metadata": {},
   "outputs": [],
   "source": [
    "checkpoint = ModelCheckpoint(\"../models/shading.keras\", monitor = \"val_accuracy\", verbose = 1, save_best_only = True, mode = 'max')\n",
    "\n",
    "early_stopping = EarlyStopping(monitor = \"val_loss\", min_delta = 0.001, patience = 5, verbose = 1, restore_best_weights = True)\n",
    "\n",
    "reduced_learning_rate = ReduceLROnPlateau(monitor = \"val_loss\", factor = 0.1, patience = 3, verbose = 1, min_delta = 0.0001)\n",
    "\n",
    "\n",
    "callbacks_list = [checkpoint, early_stopping, reduced_learning_rate]"
   ]
  },
  {
   "cell_type": "code",
   "execution_count": 26,
   "metadata": {},
   "outputs": [],
   "source": [
    "x_train, x_test, y_train, y_test = train_test_split(x, y, test_size = 0.2, random_state = 42)"
   ]
  },
  {
   "cell_type": "code",
   "execution_count": 27,
   "metadata": {},
   "outputs": [
    {
     "name": "stdout",
     "output_type": "stream",
     "text": [
      "Epoch 1/50\n",
      "58/58 [==============================] - ETA: 0s - loss: 0.9351 - accuracy: 0.4808\n",
      "Epoch 1: val_accuracy improved from -inf to 0.62121, saving model to models/42.2.keras\n",
      "58/58 [==============================] - 27s 451ms/step - loss: 0.9351 - accuracy: 0.4808 - val_loss: 0.7071 - val_accuracy: 0.6212 - lr: 0.0010\n",
      "Epoch 2/50\n",
      "58/58 [==============================] - ETA: 0s - loss: 0.5332 - accuracy: 0.6770\n",
      "Epoch 2: val_accuracy improved from 0.62121 to 0.81169, saving model to models/42.2.keras\n",
      "58/58 [==============================] - 26s 441ms/step - loss: 0.5332 - accuracy: 0.6770 - val_loss: 0.4920 - val_accuracy: 0.8117 - lr: 0.0010\n",
      "Epoch 3/50\n",
      "58/58 [==============================] - ETA: 0s - loss: 0.5327 - accuracy: 0.6976\n",
      "Epoch 3: val_accuracy did not improve from 0.81169\n",
      "58/58 [==============================] - 25s 433ms/step - loss: 0.5327 - accuracy: 0.6976 - val_loss: 0.4803 - val_accuracy: 0.6883 - lr: 0.0010\n",
      "Epoch 4/50\n",
      "58/58 [==============================] - ETA: 0s - loss: 0.4518 - accuracy: 0.7653\n",
      "Epoch 4: val_accuracy did not improve from 0.81169\n",
      "58/58 [==============================] - 25s 439ms/step - loss: 0.4518 - accuracy: 0.7653 - val_loss: 0.5402 - val_accuracy: 0.7143 - lr: 0.0010\n",
      "Epoch 5/50\n",
      "58/58 [==============================] - ETA: 0s - loss: 0.4567 - accuracy: 0.7480\n",
      "Epoch 5: val_accuracy improved from 0.81169 to 0.85065, saving model to models/42.2.keras\n",
      "58/58 [==============================] - 25s 437ms/step - loss: 0.4567 - accuracy: 0.7480 - val_loss: 0.3849 - val_accuracy: 0.8506 - lr: 0.0010\n",
      "Epoch 6/50\n",
      "58/58 [==============================] - ETA: 0s - loss: 0.3479 - accuracy: 0.8363\n",
      "Epoch 6: val_accuracy improved from 0.85065 to 0.93290, saving model to models/42.2.keras\n",
      "58/58 [==============================] - 25s 438ms/step - loss: 0.3479 - accuracy: 0.8363 - val_loss: 0.2097 - val_accuracy: 0.9329 - lr: 0.0010\n",
      "Epoch 7/50\n",
      "58/58 [==============================] - ETA: 0s - loss: 0.2569 - accuracy: 0.8900\n",
      "Epoch 7: val_accuracy improved from 0.93290 to 0.96537, saving model to models/42.2.keras\n",
      "58/58 [==============================] - 25s 436ms/step - loss: 0.2569 - accuracy: 0.8900 - val_loss: 0.0961 - val_accuracy: 0.9654 - lr: 0.0010\n",
      "Epoch 8/50\n",
      "58/58 [==============================] - ETA: 0s - loss: 0.1879 - accuracy: 0.9350\n",
      "Epoch 8: val_accuracy did not improve from 0.96537\n",
      "58/58 [==============================] - 25s 434ms/step - loss: 0.1879 - accuracy: 0.9350 - val_loss: 0.2531 - val_accuracy: 0.8983 - lr: 0.0010\n",
      "Epoch 9/50\n",
      "58/58 [==============================] - ETA: 0s - loss: 0.1060 - accuracy: 0.9664\n",
      "Epoch 9: val_accuracy did not improve from 0.96537\n",
      "58/58 [==============================] - 25s 434ms/step - loss: 0.1060 - accuracy: 0.9664 - val_loss: 0.0922 - val_accuracy: 0.9545 - lr: 0.0010\n",
      "Epoch 10/50\n",
      "58/58 [==============================] - ETA: 0s - loss: 0.2008 - accuracy: 0.9220\n",
      "Epoch 10: val_accuracy improved from 0.96537 to 0.97835, saving model to models/42.2.keras\n",
      "58/58 [==============================] - 25s 435ms/step - loss: 0.2008 - accuracy: 0.9220 - val_loss: 0.0520 - val_accuracy: 0.9784 - lr: 0.0010\n",
      "Epoch 11/50\n",
      "58/58 [==============================] - ETA: 0s - loss: 0.0917 - accuracy: 0.9669\n",
      "Epoch 11: val_accuracy improved from 0.97835 to 0.98485, saving model to models/42.2.keras\n",
      "58/58 [==============================] - 25s 434ms/step - loss: 0.0917 - accuracy: 0.9669 - val_loss: 0.0749 - val_accuracy: 0.9848 - lr: 0.0010\n",
      "Epoch 12/50\n",
      "58/58 [==============================] - ETA: 0s - loss: 0.0665 - accuracy: 0.9772\n",
      "Epoch 12: val_accuracy did not improve from 0.98485\n",
      "58/58 [==============================] - 25s 433ms/step - loss: 0.0665 - accuracy: 0.9772 - val_loss: 0.0356 - val_accuracy: 0.9848 - lr: 0.0010\n",
      "Epoch 13/50\n",
      "58/58 [==============================] - ETA: 0s - loss: 0.0604 - accuracy: 0.9789\n",
      "Epoch 13: val_accuracy improved from 0.98485 to 0.98701, saving model to models/42.2.keras\n",
      "58/58 [==============================] - 76s 1s/step - loss: 0.0604 - accuracy: 0.9789 - val_loss: 0.0244 - val_accuracy: 0.9870 - lr: 0.0010\n",
      "Epoch 14/50\n",
      "58/58 [==============================] - ETA: 0s - loss: 0.0397 - accuracy: 0.9902\n",
      "Epoch 14: val_accuracy did not improve from 0.98701\n",
      "58/58 [==============================] - 26s 451ms/step - loss: 0.0397 - accuracy: 0.9902 - val_loss: 0.0468 - val_accuracy: 0.9827 - lr: 0.0010\n",
      "Epoch 15/50\n",
      "58/58 [==============================] - ETA: 0s - loss: 0.0463 - accuracy: 0.9843\n",
      "Epoch 15: val_accuracy improved from 0.98701 to 0.98918, saving model to models/42.2.keras\n",
      "58/58 [==============================] - 25s 435ms/step - loss: 0.0463 - accuracy: 0.9843 - val_loss: 0.0295 - val_accuracy: 0.9892 - lr: 0.0010\n",
      "Epoch 16/50\n",
      "58/58 [==============================] - ETA: 0s - loss: 0.0387 - accuracy: 0.9859\n",
      "Epoch 16: val_accuracy did not improve from 0.98918\n",
      "\n",
      "Epoch 16: ReduceLROnPlateau reducing learning rate to 0.00010000000474974513.\n",
      "58/58 [==============================] - 25s 435ms/step - loss: 0.0387 - accuracy: 0.9859 - val_loss: 0.0842 - val_accuracy: 0.9675 - lr: 0.0010\n",
      "Epoch 17/50\n",
      "58/58 [==============================] - ETA: 0s - loss: 0.0260 - accuracy: 0.9930\n",
      "Epoch 17: val_accuracy improved from 0.98918 to 0.99784, saving model to models/42.2.keras\n",
      "58/58 [==============================] - 26s 441ms/step - loss: 0.0260 - accuracy: 0.9930 - val_loss: 0.0129 - val_accuracy: 0.9978 - lr: 1.0000e-04\n",
      "Epoch 18/50\n",
      "58/58 [==============================] - ETA: 0s - loss: 0.0154 - accuracy: 0.9957\n",
      "Epoch 18: val_accuracy did not improve from 0.99784\n",
      "58/58 [==============================] - 25s 436ms/step - loss: 0.0154 - accuracy: 0.9957 - val_loss: 0.0102 - val_accuracy: 0.9978 - lr: 1.0000e-04\n",
      "Epoch 19/50\n",
      "58/58 [==============================] - ETA: 0s - loss: 0.0174 - accuracy: 0.9957\n",
      "Epoch 19: val_accuracy did not improve from 0.99784\n",
      "58/58 [==============================] - 25s 439ms/step - loss: 0.0174 - accuracy: 0.9957 - val_loss: 0.0115 - val_accuracy: 0.9978 - lr: 1.0000e-04\n",
      "Epoch 20/50\n",
      "58/58 [==============================] - ETA: 0s - loss: 0.0138 - accuracy: 0.9962\n",
      "Epoch 20: val_accuracy did not improve from 0.99784\n",
      "58/58 [==============================] - 28s 479ms/step - loss: 0.0138 - accuracy: 0.9962 - val_loss: 0.0108 - val_accuracy: 0.9978 - lr: 1.0000e-04\n",
      "Epoch 21/50\n",
      "58/58 [==============================] - ETA: 0s - loss: 0.0121 - accuracy: 0.9973\n",
      "Epoch 21: val_accuracy did not improve from 0.99784\n",
      "58/58 [==============================] - 26s 455ms/step - loss: 0.0121 - accuracy: 0.9973 - val_loss: 0.0095 - val_accuracy: 0.9978 - lr: 1.0000e-04\n",
      "Epoch 22/50\n",
      "58/58 [==============================] - ETA: 0s - loss: 0.0108 - accuracy: 0.9967\n",
      "Epoch 22: val_accuracy did not improve from 0.99784\n",
      "58/58 [==============================] - 25s 435ms/step - loss: 0.0108 - accuracy: 0.9967 - val_loss: 0.0088 - val_accuracy: 0.9978 - lr: 1.0000e-04\n",
      "Epoch 23/50\n",
      "58/58 [==============================] - ETA: 0s - loss: 0.0135 - accuracy: 0.9957\n",
      "Epoch 23: val_accuracy did not improve from 0.99784\n",
      "58/58 [==============================] - 26s 440ms/step - loss: 0.0135 - accuracy: 0.9957 - val_loss: 0.0089 - val_accuracy: 0.9978 - lr: 1.0000e-04\n",
      "Epoch 24/50\n",
      "58/58 [==============================] - ETA: 0s - loss: 0.0147 - accuracy: 0.9957\n",
      "Epoch 24: val_accuracy did not improve from 0.99784\n",
      "58/58 [==============================] - 25s 438ms/step - loss: 0.0147 - accuracy: 0.9957 - val_loss: 0.0124 - val_accuracy: 0.9935 - lr: 1.0000e-04\n",
      "Epoch 25/50\n",
      "58/58 [==============================] - ETA: 0s - loss: 0.0120 - accuracy: 0.9989\n",
      "Epoch 25: val_accuracy did not improve from 0.99784\n",
      "\n",
      "Epoch 25: ReduceLROnPlateau reducing learning rate to 1.0000000474974514e-05.\n",
      "58/58 [==============================] - 25s 438ms/step - loss: 0.0120 - accuracy: 0.9989 - val_loss: 0.0098 - val_accuracy: 0.9978 - lr: 1.0000e-04\n",
      "Epoch 26/50\n",
      "58/58 [==============================] - ETA: 0s - loss: 0.0069 - accuracy: 0.9995\n",
      "Epoch 26: val_accuracy did not improve from 0.99784\n",
      "58/58 [==============================] - 25s 436ms/step - loss: 0.0069 - accuracy: 0.9995 - val_loss: 0.0099 - val_accuracy: 0.9957 - lr: 1.0000e-05\n",
      "Epoch 27/50\n",
      "58/58 [==============================] - ETA: 0s - loss: 0.0074 - accuracy: 0.9984\n",
      "Epoch 27: val_accuracy did not improve from 0.99784\n",
      "Restoring model weights from the end of the best epoch: 22.\n",
      "58/58 [==============================] - 26s 441ms/step - loss: 0.0074 - accuracy: 0.9984 - val_loss: 0.0102 - val_accuracy: 0.9957 - lr: 1.0000e-05\n",
      "Epoch 27: early stopping\n"
     ]
    },
    {
     "data": {
      "text/plain": [
       "<keras.callbacks.History at 0x31b891b40>"
      ]
     },
     "execution_count": 27,
     "metadata": {},
     "output_type": "execute_result"
    }
   ],
   "source": [
    "history = model.fit(x = x_train, y = y_train, batch_size = 32, epochs = 50, validation_data = (x_test, y_test), callbacks = callbacks_list)"
   ]
  },
  {
   "cell_type": "code",
   "execution_count": 29,
   "metadata": {},
   "outputs": [],
   "source": [
    "from keras.models import load_model"
   ]
  },
  {
   "cell_type": "code",
   "execution_count": 57,
   "metadata": {},
   "outputs": [],
   "source": [
    "model = load_model('../models/shading.keras')"
   ]
  },
  {
   "cell_type": "code",
   "execution_count": 58,
   "metadata": {},
   "outputs": [],
   "source": [
    "def prep(image):\n",
    "    img = load_img(image)\n",
    "    feature = np.array(img)\n",
    "    feature = feature.reshape(1, 200, 150, 3)\n",
    "    return feature / 255.0"
   ]
  },
  {
   "cell_type": "code",
   "execution_count": 59,
   "metadata": {},
   "outputs": [],
   "source": [
    "def predict_shading(imagepath):\n",
    "    image = prep(imagepath)\n",
    "    pred = model.predict(image).argmax()\n",
    "\n",
    "    if pred == 0:\n",
    "        return \"Empty\", 0\n",
    "    if pred == 1: \n",
    "        return \"Stripe\", 1\n",
    "    else:\n",
    "        return \"Solid\", 2\n"
   ]
  },
  {
   "cell_type": "code",
   "execution_count": 63,
   "metadata": {},
   "outputs": [
    {
     "name": "stdout",
     "output_type": "stream",
     "text": [
      "1/1 [==============================] - 0s 26ms/step\n",
      "prediction:  Stripe\n"
     ]
    }
   ],
   "source": [
    "imagepath = '../cropped/1312/10.jpg'\n",
    "\n",
    "pred = predict_shading(imagepath)\n",
    "print(\"prediction: \", pred[0])\n",
    "\n",
    "loaded_image = cv2.imread(imagepath)\n",
    "cv2.imshow('image ', loaded_image)\n",
    "cv2.waitKey(0)\n",
    "cv2.destroyAllWindows()"
   ]
  },
  {
   "cell_type": "code",
   "execution_count": null,
   "metadata": {},
   "outputs": [],
   "source": []
  }
 ],
 "metadata": {
  "kernelspec": {
   "display_name": "set",
   "language": "python",
   "name": "python3"
  },
  "language_info": {
   "codemirror_mode": {
    "name": "ipython",
    "version": 3
   },
   "file_extension": ".py",
   "mimetype": "text/x-python",
   "name": "python",
   "nbconvert_exporter": "python",
   "pygments_lexer": "ipython3",
   "version": "3.10.13"
  }
 },
 "nbformat": 4,
 "nbformat_minor": 2
}
